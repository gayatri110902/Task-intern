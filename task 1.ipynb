{
 "cells": [
  {
   "cell_type": "code",
   "execution_count": 1,
   "id": "1b8facee-17fd-456e-bbd7-32e8cbae958f",
   "metadata": {},
   "outputs": [
    {
     "name": "stdout",
     "output_type": "stream",
     "text": [
      "Welcome to Hangman!\n",
      "Guess the word: _ _ _ _ _ _ _ _ _\n",
      "\n",
      "Attempts left: 6\n",
      "Guessed letters: \n"
     ]
    },
    {
     "name": "stdin",
     "output_type": "stream",
     "text": [
      "Enter a letter:  d\n"
     ]
    },
    {
     "name": "stdout",
     "output_type": "stream",
     "text": [
      "Good job! 'd' is in the word.\n",
      "Current word: d _ _ _ _ _ _ _ _\n",
      "\n",
      "Attempts left: 6\n",
      "Guessed letters: d\n"
     ]
    },
    {
     "name": "stdin",
     "output_type": "stream",
     "text": [
      "Enter a letter:  p\n"
     ]
    },
    {
     "name": "stdout",
     "output_type": "stream",
     "text": [
      "Good job! 'p' is in the word.\n",
      "Current word: d _ _ _ _ _ p _ _\n",
      "\n",
      "Attempts left: 6\n",
      "Guessed letters: d, p\n"
     ]
    },
    {
     "name": "stdin",
     "output_type": "stream",
     "text": [
      "Enter a letter:  e\n"
     ]
    },
    {
     "name": "stdout",
     "output_type": "stream",
     "text": [
      "Good job! 'e' is in the word.\n",
      "Current word: d e _ e _ _ p e _\n",
      "\n",
      "Attempts left: 6\n",
      "Guessed letters: d, p, e\n"
     ]
    },
    {
     "name": "stdin",
     "output_type": "stream",
     "text": [
      "Enter a letter:  v\n"
     ]
    },
    {
     "name": "stdout",
     "output_type": "stream",
     "text": [
      "Good job! 'v' is in the word.\n",
      "Current word: d e v e _ _ p e _\n",
      "\n",
      "Attempts left: 6\n",
      "Guessed letters: d, p, e, v\n"
     ]
    },
    {
     "name": "stdin",
     "output_type": "stream",
     "text": [
      "Enter a letter:  r\n"
     ]
    },
    {
     "name": "stdout",
     "output_type": "stream",
     "text": [
      "Good job! 'r' is in the word.\n",
      "Current word: d e v e _ _ p e r\n",
      "\n",
      "Attempts left: 6\n",
      "Guessed letters: d, p, e, v, r\n"
     ]
    },
    {
     "name": "stdin",
     "output_type": "stream",
     "text": [
      "Enter a letter:  o\n"
     ]
    },
    {
     "name": "stdout",
     "output_type": "stream",
     "text": [
      "Good job! 'o' is in the word.\n",
      "Current word: d e v e _ o p e r\n",
      "\n",
      "Attempts left: 6\n",
      "Guessed letters: d, p, e, v, r, o\n"
     ]
    },
    {
     "name": "stdin",
     "output_type": "stream",
     "text": [
      "Enter a letter:  l\n"
     ]
    },
    {
     "name": "stdout",
     "output_type": "stream",
     "text": [
      "Good job! 'l' is in the word.\n",
      "Current word: d e v e l o p e r\n",
      "\n",
      "Congratulations! You guessed the word: developer\n"
     ]
    }
   ],
   "source": [
    "import random\n",
    "\n",
    "# Hangman Game Code\n",
    "\n",
    "def hangman():\n",
    "    # Word list\n",
    "    words = [\"python\", \"programming\", \"hangman\", \"challenge\", \"developer\"]\n",
    "    \n",
    "    # Select a random word from the list\n",
    "    word_to_guess = random.choice(words)\n",
    "    guessed_word = [\"_\"] * len(word_to_guess)\n",
    "    attempts = 6  # Number of allowed incorrect guesses\n",
    "    guessed_letters = []\n",
    "\n",
    "    print(\"Welcome to Hangman!\")\n",
    "    print(\"Guess the word: \" + \" \".join(guessed_word))\n",
    "\n",
    "    while attempts > 0 and \"_\" in guessed_word:\n",
    "        print(f\"\\nAttempts left: {attempts}\")\n",
    "        print(\"Guessed letters: \" + \", \".join(guessed_letters))\n",
    "        \n",
    "        guess = input(\"Enter a letter: \").lower()\n",
    "        \n",
    "        if not guess.isalpha() or len(guess) != 1:\n",
    "            print(\"Invalid input. Please enter a single alphabetic character.\")\n",
    "            continue\n",
    "        \n",
    "        if guess in guessed_letters:\n",
    "            print(\"You already guessed that letter!\")\n",
    "            continue\n",
    "        \n",
    "        guessed_letters.append(guess)\n",
    "        \n",
    "        if guess in word_to_guess:\n",
    "            print(f\"Good job! '{guess}' is in the word.\")\n",
    "            for index, letter in enumerate(word_to_guess):\n",
    "                if letter == guess:\n",
    "                    guessed_word[index] = guess\n",
    "        else:\n",
    "            print(f\"Sorry, '{guess}' is not in the word.\")\n",
    "            attempts -= 1\n",
    "        \n",
    "        print(\"Current word: \" + \" \".join(guessed_word))\n",
    "    \n",
    "    # Game Over\n",
    "    if \"_\" not in guessed_word:\n",
    "        print(\"\\nCongratulations! You guessed the word:\", word_to_guess)\n",
    "    else:\n",
    "        print(\"\\nOut of attempts! The word was:\", word_to_guess)\n",
    "    \n",
    "# Run the game\n",
    "hangman()\n"
   ]
  },
  {
   "cell_type": "code",
   "execution_count": null,
   "id": "5de0e33a-7b0e-4ecc-bffe-f4c9c473dbfc",
   "metadata": {},
   "outputs": [],
   "source": []
  }
 ],
 "metadata": {
  "kernelspec": {
   "display_name": "Python 3 (ipykernel)",
   "language": "python",
   "name": "python3"
  },
  "language_info": {
   "codemirror_mode": {
    "name": "ipython",
    "version": 3
   },
   "file_extension": ".py",
   "mimetype": "text/x-python",
   "name": "python",
   "nbconvert_exporter": "python",
   "pygments_lexer": "ipython3",
   "version": "3.12.4"
  }
 },
 "nbformat": 4,
 "nbformat_minor": 5
}
